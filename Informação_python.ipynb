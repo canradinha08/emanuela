{
  "nbformat": 4,
  "nbformat_minor": 0,
  "metadata": {
    "colab": {
      "provenance": [],
      "authorship_tag": "ABX9TyOX49TrU15btFYxUp59y2Qh",
      "include_colab_link": true
    },
    "kernelspec": {
      "name": "python3",
      "display_name": "Python 3"
    },
    "language_info": {
      "name": "python"
    }
  },
  "cells": [
    {
      "cell_type": "markdown",
      "metadata": {
        "id": "view-in-github",
        "colab_type": "text"
      },
      "source": [
        "<a href=\"https://colab.research.google.com/github/canradinha08/emanuela/blob/main/Informa%C3%A7%C3%A3o_python.ipynb\" target=\"_parent\"><img src=\"https://colab.research.google.com/assets/colab-badge.svg\" alt=\"Open In Colab\"/></a>"
      ]
    },
    {
      "cell_type": "code",
      "execution_count": null,
      "metadata": {
        "id": "bXEo6Obi359B"
      },
      "outputs": [],
      "source": [
        "print(\"I competição de progrmação da Start|\")"
      ]
    },
    {
      "cell_type": "code",
      "source": [
        "[ ] ano = \"II\"]\n",
        "\n",
        "print(ano, \"competição de programação da Start\")"
      ],
      "metadata": {
        "id": "HZKMOqVt6wXK"
      },
      "execution_count": null,
      "outputs": []
    },
    {
      "cell_type": "code",
      "source": [
        "[ ] print(f\"{ano} competição de programação da Start\")"
      ],
      "metadata": {
        "id": "8JuTeuqp7evd"
      },
      "execution_count": null,
      "outputs": []
    }
  ]
}