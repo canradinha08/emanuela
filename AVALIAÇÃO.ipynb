{
  "nbformat": 4,
  "nbformat_minor": 0,
  "metadata": {
    "colab": {
      "provenance": [],
      "authorship_tag": "ABX9TyOfG+zNisLD49nDSeEBzKxd",
      "include_colab_link": true
    },
    "kernelspec": {
      "name": "python3",
      "display_name": "Python 3"
    },
    "language_info": {
      "name": "python"
    }
  },
  "cells": [
    {
      "cell_type": "markdown",
      "metadata": {
        "id": "view-in-github",
        "colab_type": "text"
      },
      "source": [
        "<a href=\"https://colab.research.google.com/github/canradinha08/emanuela/blob/main/AVALIA%C3%87%C3%83O.ipynb\" target=\"_parent\"><img src=\"https://colab.research.google.com/assets/colab-badge.svg\" alt=\"Open In Colab\"/></a>"
      ]
    },
    {
      "cell_type": "markdown",
      "source": [
        "#AVALIAÇÃO - QUESTINÁRIO COLAB/PYTHON PROFESSOR NORI .P.C\n",
        "ATIVIDADE 1\n"
      ],
      "metadata": {
        "id": "lZFAEe-tjlXJ"
      }
    },
    {
      "cell_type": "code",
      "source": [
        "nome = input(\"Digite seu nome\")\n",
        "print(f\"Olá, {nome}! Qual é sua dúvida, caro estudante?)\n",
        "resposta = input(\"Escolha um assunto: Inglê, Matemática, Historia, Portugês?\") .strip().lower()\n",
        "If resposta == \"inglês\":\n",
        "  print(\"tranquilo, vamos falar sobre Ibglês! Essa lingua é muito importante!\")\n",
        "  elif resposta == \"matemática\":\n",
        ""
      ],
      "metadata": {
        "id": "E6qIzuGMnGSx"
      },
      "execution_count": null,
      "outputs": []
    }
  ]
}